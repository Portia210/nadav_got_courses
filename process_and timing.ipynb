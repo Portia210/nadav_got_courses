{
 "cells": [
  {
   "cell_type": "markdown",
   "metadata": {},
   "source": [
    "# 1 process vs 2, in computing"
   ]
  },
  {
   "cell_type": "code",
   "execution_count": 17,
   "metadata": {},
   "outputs": [
    {
     "name": "stdout",
     "output_type": "stream",
     "text": [
      "Testing with 1000000 iterations\n",
      "Single process finished. Final counter value: 1000000\n",
      "Function 'one_process_count' took 1.2517 seconds to execute.\n",
      "Two processes finished. Final counter value: 0\n",
      "Function 'two_processes_split_count' took 0.0921 seconds to execute.\n"
     ]
    }
   ],
   "source": [
    "from time import time\n",
    "from multiprocessing import Process, Value\n",
    "from functools import wraps\n",
    "\n",
    "NUMBER_OF_ITERS = 1_000_000  # Reduced for testing\n",
    "\n",
    "def measure_time(func):\n",
    "    @wraps(func)\n",
    "    def wrapper(*args, **kwargs):\n",
    "        start_time = time()\n",
    "        result = func(*args, **kwargs)\n",
    "        end_time = time()\n",
    "        elapsed = end_time - start_time\n",
    "        print(f\"Function '{func.__name__}' took {elapsed:.4f} seconds to execute.\")\n",
    "        return result\n",
    "    return wrapper\n",
    "\n",
    "def count(counter, increments):\n",
    "    for _ in range(increments):\n",
    "        with counter.get_lock():\n",
    "            counter.value += 1\n",
    "\n",
    "@measure_time\n",
    "def one_process_count():\n",
    "    counter = Value('i', 0)\n",
    "    for _ in range(NUMBER_OF_ITERS):\n",
    "        with counter.get_lock():\n",
    "            counter.value += 1\n",
    "    print(f\"Single process finished. Final counter value: {counter.value}\")\n",
    "\n",
    "@measure_time\n",
    "def two_processes_split_count():\n",
    "    counter = Value('i', 0)\n",
    "    half_increments = NUMBER_OF_ITERS // 2\n",
    "\n",
    "    p1 = Process(target=count, args=(counter, half_increments))\n",
    "    p2 = Process(target=count, args=(counter, half_increments))\n",
    "    \n",
    "    p1.start()\n",
    "    p2.start()\n",
    "    p1.join()\n",
    "    p2.join()\n",
    "    print(f\"Two processes finished. Final counter value: {counter.value}\")\n",
    "\n",
    "if __name__ == '__main__':\n",
    "    print(f\"Testing with {NUMBER_OF_ITERS} iterations\")\n",
    "    one_process_count()\n",
    "    two_processes_split_count()"
   ]
  },
  {
   "cell_type": "code",
   "execution_count": 23,
   "metadata": {},
   "outputs": [
    {
     "name": "stdout",
     "output_type": "stream",
     "text": [
      "Hello Alice\n",
      "Hello Bob\n",
      "Hello Charlie\n",
      "Goodbye Alice\n",
      "Goodbye Bob\n",
      "Goodbye Charlie\n"
     ]
    }
   ],
   "source": [
    "import asyncio\n",
    "\n",
    "async def say_hello(name):\n",
    "    print(f\"Hello {name}\")\n",
    "    await asyncio.sleep(1)\n",
    "    print(f\"Goodbye {name}\")\n",
    "\n",
    "async def main():\n",
    "    tasks = [say_hello(name) for name in [\"Alice\", \"Bob\", \"Charlie\"]]\n",
    "    await asyncio.gather(*tasks)\n",
    "\n",
    "await(main())"
   ]
  },
  {
   "cell_type": "code",
   "execution_count": null,
   "metadata": {},
   "outputs": [],
   "source": []
  }
 ],
 "metadata": {
  "kernelspec": {
   "display_name": "venv",
   "language": "python",
   "name": "python3"
  },
  "language_info": {
   "codemirror_mode": {
    "name": "ipython",
    "version": 3
   },
   "file_extension": ".py",
   "mimetype": "text/x-python",
   "name": "python",
   "nbconvert_exporter": "python",
   "pygments_lexer": "ipython3",
   "version": "3.12.9"
  }
 },
 "nbformat": 4,
 "nbformat_minor": 2
}
