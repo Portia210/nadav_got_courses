{
 "cells": [
  {
   "cell_type": "code",
   "execution_count": 13,
   "metadata": {},
   "outputs": [
    {
     "name": "stdout",
     "output_type": "stream",
     "text": [
      "0.09995501199789203\n"
     ]
    }
   ],
   "source": [
    "x = 100 # יש לי 100 שקל\n",
    "for _ in range(10): # טווח של 10 ימים\n",
    "    x  = x * 1.01 # עלות של 1% בכל יום\n",
    "    x = x * 0.99 #  שאחריו ירידה של 1% בכל יום\n",
    "\n",
    "# מציג את ההפסד בשקלים\n",
    "print(100-x)\n"
   ]
  },
  {
   "cell_type": "markdown",
   "metadata": {},
   "source": [
    "הפסדתי 0.1% בסוף הזמן"
   ]
  },
  {
   "cell_type": "code",
   "execution_count": 14,
   "metadata": {},
   "outputs": [
    {
     "data": {
      "text/plain": [
       "0.22477232413382353"
      ]
     },
     "metadata": {},
     "output_type": "display_data"
    }
   ],
   "source": [
    "x = 100 # יש לי 100 שקל\n",
    "for _ in range(10): # טווח של 10 ימים\n",
    "    x  = x * 1.015 # עלות של 1.5% בכל יום\n",
    "    x = x * 0.985 #  שאחריו ירידה של 1.5% בכל יום\n",
    "\n",
    "display(100-x) # מציג את הערך של x בסוף הזמן\n"
   ]
  },
  {
   "cell_type": "markdown",
   "metadata": {},
   "source": [
    "הפסדתי 0.225%, יותר מפי 2"
   ]
  }
 ],
 "metadata": {
  "kernelspec": {
   "display_name": "venv",
   "language": "python",
   "name": "python3"
  },
  "language_info": {
   "codemirror_mode": {
    "name": "ipython",
    "version": 3
   },
   "file_extension": ".py",
   "mimetype": "text/x-python",
   "name": "python",
   "nbconvert_exporter": "python",
   "pygments_lexer": "ipython3",
   "version": "3.12.9"
  }
 },
 "nbformat": 4,
 "nbformat_minor": 2
}
